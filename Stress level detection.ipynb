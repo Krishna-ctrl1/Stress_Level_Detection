{
 "cells": [
  {
   "cell_type": "markdown",
   "id": "c5213079-b4f0-4f4b-91b3-1a1ca627fcae",
   "metadata": {},
   "source": [
    "# READING THE DATASET"
   ]
  },
  {
   "cell_type": "code",
   "execution_count": 1,
   "id": "cc9981a9-257d-4d90-a21f-483bd1386b16",
   "metadata": {},
   "outputs": [],
   "source": [
    "import tensorflow as tf\n",
    "import pandas as pd\n",
    "import numpy as np\n",
    "from sklearn.preprocessing import StandardScaler\n",
    "import tensorflow.keras as k\n",
    "from sklearn.model_selection import train_test_split\n",
    "from matplotlib import pyplot as plt\n",
    "import time"
   ]
  },
  {
   "cell_type": "code",
   "execution_count": 2,
   "id": "d98c1c82-a3a2-46d7-a199-bc6f5f303b41",
   "metadata": {},
   "outputs": [],
   "source": [
    "df = pd.read_csv('train.csv')"
   ]
  },
  {
   "cell_type": "code",
   "execution_count": 3,
   "id": "79c827d4-db6b-4b26-a943-d5d0ebbdfd4a",
   "metadata": {},
   "outputs": [
    {
     "data": {
      "text/html": [
       "<div>\n",
       "<style scoped>\n",
       "    .dataframe tbody tr th:only-of-type {\n",
       "        vertical-align: middle;\n",
       "    }\n",
       "\n",
       "    .dataframe tbody tr th {\n",
       "        vertical-align: top;\n",
       "    }\n",
       "\n",
       "    .dataframe thead th {\n",
       "        text-align: right;\n",
       "    }\n",
       "</style>\n",
       "<table border=\"1\" class=\"dataframe\">\n",
       "  <thead>\n",
       "    <tr style=\"text-align: right;\">\n",
       "      <th></th>\n",
       "      <th>MEAN_RR</th>\n",
       "      <th>MEDIAN_RR</th>\n",
       "      <th>SDRR</th>\n",
       "      <th>RMSSD</th>\n",
       "      <th>SDSD</th>\n",
       "      <th>SDRR_RMSSD</th>\n",
       "      <th>HR</th>\n",
       "      <th>pNN25</th>\n",
       "      <th>pNN50</th>\n",
       "      <th>SD1</th>\n",
       "      <th>...</th>\n",
       "      <th>HF</th>\n",
       "      <th>HF_PCT</th>\n",
       "      <th>HF_NU</th>\n",
       "      <th>TP</th>\n",
       "      <th>LF_HF</th>\n",
       "      <th>HF_LF</th>\n",
       "      <th>sampen</th>\n",
       "      <th>higuci</th>\n",
       "      <th>datasetId</th>\n",
       "      <th>condition</th>\n",
       "    </tr>\n",
       "  </thead>\n",
       "  <tbody>\n",
       "    <tr>\n",
       "      <th>0</th>\n",
       "      <td>885.157845</td>\n",
       "      <td>853.763730</td>\n",
       "      <td>140.972741</td>\n",
       "      <td>15.554505</td>\n",
       "      <td>15.553371</td>\n",
       "      <td>9.063146</td>\n",
       "      <td>69.499952</td>\n",
       "      <td>11.133333</td>\n",
       "      <td>0.533333</td>\n",
       "      <td>11.001565</td>\n",
       "      <td>...</td>\n",
       "      <td>15.522602</td>\n",
       "      <td>0.421047</td>\n",
       "      <td>1.514737</td>\n",
       "      <td>3686.666157</td>\n",
       "      <td>65.018055</td>\n",
       "      <td>0.015380</td>\n",
       "      <td>2.139754</td>\n",
       "      <td>1.163485</td>\n",
       "      <td>2</td>\n",
       "      <td>0</td>\n",
       "    </tr>\n",
       "    <tr>\n",
       "      <th>1</th>\n",
       "      <td>939.425371</td>\n",
       "      <td>948.357865</td>\n",
       "      <td>81.317742</td>\n",
       "      <td>12.964439</td>\n",
       "      <td>12.964195</td>\n",
       "      <td>6.272369</td>\n",
       "      <td>64.363150</td>\n",
       "      <td>5.600000</td>\n",
       "      <td>0.000000</td>\n",
       "      <td>9.170129</td>\n",
       "      <td>...</td>\n",
       "      <td>2.108525</td>\n",
       "      <td>0.070133</td>\n",
       "      <td>0.304603</td>\n",
       "      <td>3006.487251</td>\n",
       "      <td>327.296635</td>\n",
       "      <td>0.003055</td>\n",
       "      <td>2.174499</td>\n",
       "      <td>1.084711</td>\n",
       "      <td>2</td>\n",
       "      <td>1</td>\n",
       "    </tr>\n",
       "    <tr>\n",
       "      <th>2</th>\n",
       "      <td>898.186047</td>\n",
       "      <td>907.006860</td>\n",
       "      <td>84.497236</td>\n",
       "      <td>16.305279</td>\n",
       "      <td>16.305274</td>\n",
       "      <td>5.182201</td>\n",
       "      <td>67.450066</td>\n",
       "      <td>13.066667</td>\n",
       "      <td>0.200000</td>\n",
       "      <td>11.533417</td>\n",
       "      <td>...</td>\n",
       "      <td>13.769729</td>\n",
       "      <td>0.512671</td>\n",
       "      <td>1.049528</td>\n",
       "      <td>2685.879461</td>\n",
       "      <td>94.280910</td>\n",
       "      <td>0.010607</td>\n",
       "      <td>2.135350</td>\n",
       "      <td>1.176315</td>\n",
       "      <td>2</td>\n",
       "      <td>1</td>\n",
       "    </tr>\n",
       "    <tr>\n",
       "      <th>3</th>\n",
       "      <td>881.757864</td>\n",
       "      <td>893.460030</td>\n",
       "      <td>90.370537</td>\n",
       "      <td>15.720468</td>\n",
       "      <td>15.720068</td>\n",
       "      <td>5.748591</td>\n",
       "      <td>68.809562</td>\n",
       "      <td>11.800000</td>\n",
       "      <td>0.133333</td>\n",
       "      <td>11.119476</td>\n",
       "      <td>...</td>\n",
       "      <td>18.181913</td>\n",
       "      <td>0.529387</td>\n",
       "      <td>1.775294</td>\n",
       "      <td>3434.520980</td>\n",
       "      <td>55.328701</td>\n",
       "      <td>0.018074</td>\n",
       "      <td>2.178341</td>\n",
       "      <td>1.179688</td>\n",
       "      <td>2</td>\n",
       "      <td>0</td>\n",
       "    </tr>\n",
       "    <tr>\n",
       "      <th>4</th>\n",
       "      <td>809.625331</td>\n",
       "      <td>811.184865</td>\n",
       "      <td>62.766242</td>\n",
       "      <td>19.213819</td>\n",
       "      <td>19.213657</td>\n",
       "      <td>3.266724</td>\n",
       "      <td>74.565728</td>\n",
       "      <td>20.200000</td>\n",
       "      <td>0.200000</td>\n",
       "      <td>13.590641</td>\n",
       "      <td>...</td>\n",
       "      <td>48.215822</td>\n",
       "      <td>1.839473</td>\n",
       "      <td>3.279993</td>\n",
       "      <td>2621.175204</td>\n",
       "      <td>29.487873</td>\n",
       "      <td>0.033912</td>\n",
       "      <td>2.221121</td>\n",
       "      <td>1.249612</td>\n",
       "      <td>2</td>\n",
       "      <td>0</td>\n",
       "    </tr>\n",
       "  </tbody>\n",
       "</table>\n",
       "<p>5 rows × 36 columns</p>\n",
       "</div>"
      ],
      "text/plain": [
       "      MEAN_RR   MEDIAN_RR        SDRR      RMSSD       SDSD  SDRR_RMSSD  \\\n",
       "0  885.157845  853.763730  140.972741  15.554505  15.553371    9.063146   \n",
       "1  939.425371  948.357865   81.317742  12.964439  12.964195    6.272369   \n",
       "2  898.186047  907.006860   84.497236  16.305279  16.305274    5.182201   \n",
       "3  881.757864  893.460030   90.370537  15.720468  15.720068    5.748591   \n",
       "4  809.625331  811.184865   62.766242  19.213819  19.213657    3.266724   \n",
       "\n",
       "          HR      pNN25     pNN50        SD1  ...         HF    HF_PCT  \\\n",
       "0  69.499952  11.133333  0.533333  11.001565  ...  15.522602  0.421047   \n",
       "1  64.363150   5.600000  0.000000   9.170129  ...   2.108525  0.070133   \n",
       "2  67.450066  13.066667  0.200000  11.533417  ...  13.769729  0.512671   \n",
       "3  68.809562  11.800000  0.133333  11.119476  ...  18.181913  0.529387   \n",
       "4  74.565728  20.200000  0.200000  13.590641  ...  48.215822  1.839473   \n",
       "\n",
       "      HF_NU           TP       LF_HF     HF_LF    sampen    higuci  datasetId  \\\n",
       "0  1.514737  3686.666157   65.018055  0.015380  2.139754  1.163485          2   \n",
       "1  0.304603  3006.487251  327.296635  0.003055  2.174499  1.084711          2   \n",
       "2  1.049528  2685.879461   94.280910  0.010607  2.135350  1.176315          2   \n",
       "3  1.775294  3434.520980   55.328701  0.018074  2.178341  1.179688          2   \n",
       "4  3.279993  2621.175204   29.487873  0.033912  2.221121  1.249612          2   \n",
       "\n",
       "   condition  \n",
       "0          0  \n",
       "1          1  \n",
       "2          1  \n",
       "3          0  \n",
       "4          0  \n",
       "\n",
       "[5 rows x 36 columns]"
      ]
     },
     "execution_count": 3,
     "metadata": {},
     "output_type": "execute_result"
    }
   ],
   "source": [
    "df.head()"
   ]
  },
  {
   "cell_type": "code",
   "execution_count": 4,
   "id": "3704c51e-7536-403c-9ea9-284faa628eab",
   "metadata": {},
   "outputs": [],
   "source": [
    "label = ['condition']\n",
    "features = ['MEAN_RR','RMSSD','pNN25','pNN50','LF','HF','LF_HF']"
   ]
  },
  {
   "cell_type": "code",
   "execution_count": 5,
   "id": "e1459480-9c73-478f-93c0-30b13e4540d1",
   "metadata": {},
   "outputs": [],
   "source": [
    "scaler = StandardScaler()\n",
    "scaler.fit(df[features])\n",
    "df[features] = scaler.transform(df[features])"
   ]
  },
  {
   "cell_type": "code",
   "execution_count": 6,
   "id": "3797e380-843f-45e3-a881-158df6346e5d",
   "metadata": {},
   "outputs": [],
   "source": [
    "X = df[features].values\n",
    "y = df[label].values"
   ]
  },
  {
   "cell_type": "code",
   "execution_count": 7,
   "id": "5dd877db-faea-4b25-bb95-4ac0d6e84678",
   "metadata": {},
   "outputs": [],
   "source": [
    "X_train,X_test,y_train,y_test = train_test_split(X,y,test_size = 0.3,random_state = 40)"
   ]
  },
  {
   "cell_type": "code",
   "execution_count": 8,
   "id": "598d6e27-ebab-4a78-bf2b-f21006488f64",
   "metadata": {},
   "outputs": [
    {
     "name": "stdout",
     "output_type": "stream",
     "text": [
      "(258502, 7) (258502, 1) (110787, 7) (110787, 1)\n"
     ]
    }
   ],
   "source": [
    "print(X_train.shape,y_train.shape,X_test.shape,y_test.shape)"
   ]
  },
  {
   "cell_type": "code",
   "execution_count": 9,
   "id": "407a2fc9-4e3a-4114-82c9-f65b355ffa83",
   "metadata": {},
   "outputs": [],
   "source": [
    "y_train = k.utils.to_categorical(y_train)\n",
    "y_test = k.utils.to_categorical(y_test)"
   ]
  },
  {
   "cell_type": "markdown",
   "id": "0a8eeef1-4931-4c28-9184-8976189558dc",
   "metadata": {},
   "source": [
    "# CREATING A MODEL"
   ]
  },
  {
   "cell_type": "code",
   "execution_count": 10,
   "id": "f44e63cc-92ee-418a-a0d8-c3079811c59f",
   "metadata": {},
   "outputs": [],
   "source": [
    "from tensorflow.keras import Sequential\n",
    "from tensorflow.keras.layers import Dense"
   ]
  },
  {
   "cell_type": "code",
   "execution_count": 11,
   "id": "6e8666d9-72f2-4000-864a-c1c29d7ac503",
   "metadata": {},
   "outputs": [
    {
     "name": "stderr",
     "output_type": "stream",
     "text": [
      "C:\\Users\\Krishna Gupta\\AppData\\Roaming\\Python\\Python311\\site-packages\\keras\\src\\layers\\core\\dense.py:85: UserWarning: Do not pass an `input_shape`/`input_dim` argument to a layer. When using Sequential models, prefer using an `Input(shape)` object as the first layer in the model instead.\n",
      "  super().__init__(activity_regularizer=activity_regularizer, **kwargs)\n"
     ]
    }
   ],
   "source": [
    "model = Sequential()\n",
    "model.add(Dense(50, activation='relu',kernel_initializer = 'he_normal',input_shape=(X_train.shape[1],)))\n",
    "model.add(Dense(20, activation='relu',kernel_initializer = 'he_normal'))\n",
    "model.add(Dense(10, activation='relu',kernel_initializer = 'he_normal'))\n",
    "model.add(Dense(3, activation='softmax'))"
   ]
  },
  {
   "cell_type": "code",
   "execution_count": 12,
   "id": "3db86ac5-e676-4823-8ca5-f2cf29581080",
   "metadata": {},
   "outputs": [],
   "source": [
    "model.compile(optimizer='adam', loss='categorical_crossentropy',metrics=['accuracy'])"
   ]
  },
  {
   "cell_type": "code",
   "execution_count": 13,
   "id": "6ccd875e-de44-4fdd-886b-c0db8a5fe833",
   "metadata": {},
   "outputs": [
    {
     "name": "stdout",
     "output_type": "stream",
     "text": [
      "Epoch 1/50\n",
      "\u001b[1m253/253\u001b[0m \u001b[32m━━━━━━━━━━━━━━━━━━━━\u001b[0m\u001b[37m\u001b[0m \u001b[1m4s\u001b[0m 6ms/step - accuracy: 0.5836 - loss: 0.9373 - val_accuracy: 0.7002 - val_loss: 0.7002\n",
      "Epoch 2/50\n",
      "\u001b[1m253/253\u001b[0m \u001b[32m━━━━━━━━━━━━━━━━━━━━\u001b[0m\u001b[37m\u001b[0m \u001b[1m1s\u001b[0m 5ms/step - accuracy: 0.7129 - loss: 0.6583 - val_accuracy: 0.7535 - val_loss: 0.5680\n",
      "Epoch 3/50\n",
      "\u001b[1m253/253\u001b[0m \u001b[32m━━━━━━━━━━━━━━━━━━━━\u001b[0m\u001b[37m\u001b[0m \u001b[1m1s\u001b[0m 5ms/step - accuracy: 0.7732 - loss: 0.5343 - val_accuracy: 0.8120 - val_loss: 0.4706\n",
      "Epoch 4/50\n",
      "\u001b[1m253/253\u001b[0m \u001b[32m━━━━━━━━━━━━━━━━━━━━\u001b[0m\u001b[37m\u001b[0m \u001b[1m1s\u001b[0m 4ms/step - accuracy: 0.8226 - loss: 0.4445 - val_accuracy: 0.8406 - val_loss: 0.4029\n",
      "Epoch 5/50\n",
      "\u001b[1m253/253\u001b[0m \u001b[32m━━━━━━━━━━━━━━━━━━━━\u001b[0m\u001b[37m\u001b[0m \u001b[1m1s\u001b[0m 4ms/step - accuracy: 0.8478 - loss: 0.3877 - val_accuracy: 0.8642 - val_loss: 0.3549\n",
      "Epoch 6/50\n",
      "\u001b[1m253/253\u001b[0m \u001b[32m━━━━━━━━━━━━━━━━━━━━\u001b[0m\u001b[37m\u001b[0m \u001b[1m1s\u001b[0m 5ms/step - accuracy: 0.8709 - loss: 0.3428 - val_accuracy: 0.8758 - val_loss: 0.3250\n",
      "Epoch 7/50\n",
      "\u001b[1m253/253\u001b[0m \u001b[32m━━━━━━━━━━━━━━━━━━━━\u001b[0m\u001b[37m\u001b[0m \u001b[1m1s\u001b[0m 5ms/step - accuracy: 0.8848 - loss: 0.3093 - val_accuracy: 0.8931 - val_loss: 0.2958\n",
      "Epoch 8/50\n",
      "\u001b[1m253/253\u001b[0m \u001b[32m━━━━━━━━━━━━━━━━━━━━\u001b[0m\u001b[37m\u001b[0m \u001b[1m1s\u001b[0m 5ms/step - accuracy: 0.8982 - loss: 0.2850 - val_accuracy: 0.8960 - val_loss: 0.2831\n",
      "Epoch 9/50\n",
      "\u001b[1m253/253\u001b[0m \u001b[32m━━━━━━━━━━━━━━━━━━━━\u001b[0m\u001b[37m\u001b[0m \u001b[1m1s\u001b[0m 4ms/step - accuracy: 0.9036 - loss: 0.2666 - val_accuracy: 0.9031 - val_loss: 0.2619\n",
      "Epoch 10/50\n",
      "\u001b[1m253/253\u001b[0m \u001b[32m━━━━━━━━━━━━━━━━━━━━\u001b[0m\u001b[37m\u001b[0m \u001b[1m1s\u001b[0m 4ms/step - accuracy: 0.9115 - loss: 0.2484 - val_accuracy: 0.9148 - val_loss: 0.2422\n",
      "Epoch 11/50\n",
      "\u001b[1m253/253\u001b[0m \u001b[32m━━━━━━━━━━━━━━━━━━━━\u001b[0m\u001b[37m\u001b[0m \u001b[1m1s\u001b[0m 5ms/step - accuracy: 0.9152 - loss: 0.2357 - val_accuracy: 0.9194 - val_loss: 0.2267\n",
      "Epoch 12/50\n",
      "\u001b[1m253/253\u001b[0m \u001b[32m━━━━━━━━━━━━━━━━━━━━\u001b[0m\u001b[37m\u001b[0m \u001b[1m1s\u001b[0m 5ms/step - accuracy: 0.9206 - loss: 0.2216 - val_accuracy: 0.9245 - val_loss: 0.2144\n",
      "Epoch 13/50\n",
      "\u001b[1m253/253\u001b[0m \u001b[32m━━━━━━━━━━━━━━━━━━━━\u001b[0m\u001b[37m\u001b[0m \u001b[1m1s\u001b[0m 4ms/step - accuracy: 0.9256 - loss: 0.2107 - val_accuracy: 0.9273 - val_loss: 0.2046\n",
      "Epoch 14/50\n",
      "\u001b[1m253/253\u001b[0m \u001b[32m━━━━━━━━━━━━━━━━━━━━\u001b[0m\u001b[37m\u001b[0m \u001b[1m1s\u001b[0m 5ms/step - accuracy: 0.9306 - loss: 0.1989 - val_accuracy: 0.9321 - val_loss: 0.1939\n",
      "Epoch 15/50\n",
      "\u001b[1m253/253\u001b[0m \u001b[32m━━━━━━━━━━━━━━━━━━━━\u001b[0m\u001b[37m\u001b[0m \u001b[1m1s\u001b[0m 4ms/step - accuracy: 0.9332 - loss: 0.1908 - val_accuracy: 0.9344 - val_loss: 0.1890\n",
      "Epoch 16/50\n",
      "\u001b[1m253/253\u001b[0m \u001b[32m━━━━━━━━━━━━━━━━━━━━\u001b[0m\u001b[37m\u001b[0m \u001b[1m1s\u001b[0m 4ms/step - accuracy: 0.9349 - loss: 0.1847 - val_accuracy: 0.9363 - val_loss: 0.1805\n",
      "Epoch 17/50\n",
      "\u001b[1m253/253\u001b[0m \u001b[32m━━━━━━━━━━━━━━━━━━━━\u001b[0m\u001b[37m\u001b[0m \u001b[1m1s\u001b[0m 5ms/step - accuracy: 0.9380 - loss: 0.1786 - val_accuracy: 0.9371 - val_loss: 0.1767\n",
      "Epoch 18/50\n",
      "\u001b[1m253/253\u001b[0m \u001b[32m━━━━━━━━━━━━━━━━━━━━\u001b[0m\u001b[37m\u001b[0m \u001b[1m1s\u001b[0m 4ms/step - accuracy: 0.9393 - loss: 0.1728 - val_accuracy: 0.9402 - val_loss: 0.1712\n",
      "Epoch 19/50\n",
      "\u001b[1m253/253\u001b[0m \u001b[32m━━━━━━━━━━━━━━━━━━━━\u001b[0m\u001b[37m\u001b[0m \u001b[1m1s\u001b[0m 5ms/step - accuracy: 0.9404 - loss: 0.1686 - val_accuracy: 0.9395 - val_loss: 0.1670\n",
      "Epoch 20/50\n",
      "\u001b[1m253/253\u001b[0m \u001b[32m━━━━━━━━━━━━━━━━━━━━\u001b[0m\u001b[37m\u001b[0m \u001b[1m1s\u001b[0m 5ms/step - accuracy: 0.9423 - loss: 0.1623 - val_accuracy: 0.9411 - val_loss: 0.1643\n",
      "Epoch 21/50\n",
      "\u001b[1m253/253\u001b[0m \u001b[32m━━━━━━━━━━━━━━━━━━━━\u001b[0m\u001b[37m\u001b[0m \u001b[1m2s\u001b[0m 6ms/step - accuracy: 0.9436 - loss: 0.1588 - val_accuracy: 0.9419 - val_loss: 0.1608\n",
      "Epoch 22/50\n",
      "\u001b[1m253/253\u001b[0m \u001b[32m━━━━━━━━━━━━━━━━━━━━\u001b[0m\u001b[37m\u001b[0m \u001b[1m2s\u001b[0m 6ms/step - accuracy: 0.9456 - loss: 0.1540 - val_accuracy: 0.9447 - val_loss: 0.1533\n",
      "Epoch 23/50\n",
      "\u001b[1m253/253\u001b[0m \u001b[32m━━━━━━━━━━━━━━━━━━━━\u001b[0m\u001b[37m\u001b[0m \u001b[1m1s\u001b[0m 4ms/step - accuracy: 0.9469 - loss: 0.1509 - val_accuracy: 0.9486 - val_loss: 0.1501\n",
      "Epoch 24/50\n",
      "\u001b[1m253/253\u001b[0m \u001b[32m━━━━━━━━━━━━━━━━━━━━\u001b[0m\u001b[37m\u001b[0m \u001b[1m1s\u001b[0m 3ms/step - accuracy: 0.9475 - loss: 0.1483 - val_accuracy: 0.9450 - val_loss: 0.1502\n",
      "Epoch 25/50\n",
      "\u001b[1m253/253\u001b[0m \u001b[32m━━━━━━━━━━━━━━━━━━━━\u001b[0m\u001b[37m\u001b[0m \u001b[1m1s\u001b[0m 5ms/step - accuracy: 0.9487 - loss: 0.1447 - val_accuracy: 0.9485 - val_loss: 0.1442\n",
      "Epoch 26/50\n",
      "\u001b[1m253/253\u001b[0m \u001b[32m━━━━━━━━━━━━━━━━━━━━\u001b[0m\u001b[37m\u001b[0m \u001b[1m2s\u001b[0m 5ms/step - accuracy: 0.9506 - loss: 0.1416 - val_accuracy: 0.9489 - val_loss: 0.1439\n",
      "Epoch 27/50\n",
      "\u001b[1m253/253\u001b[0m \u001b[32m━━━━━━━━━━━━━━━━━━━━\u001b[0m\u001b[37m\u001b[0m \u001b[1m1s\u001b[0m 4ms/step - accuracy: 0.9506 - loss: 0.1403 - val_accuracy: 0.9493 - val_loss: 0.1413\n",
      "Epoch 28/50\n",
      "\u001b[1m253/253\u001b[0m \u001b[32m━━━━━━━━━━━━━━━━━━━━\u001b[0m\u001b[37m\u001b[0m \u001b[1m2s\u001b[0m 4ms/step - accuracy: 0.9522 - loss: 0.1355 - val_accuracy: 0.9520 - val_loss: 0.1371\n",
      "Epoch 29/50\n",
      "\u001b[1m253/253\u001b[0m \u001b[32m━━━━━━━━━━━━━━━━━━━━\u001b[0m\u001b[37m\u001b[0m \u001b[1m1s\u001b[0m 5ms/step - accuracy: 0.9529 - loss: 0.1340 - val_accuracy: 0.9510 - val_loss: 0.1384\n",
      "Epoch 30/50\n",
      "\u001b[1m253/253\u001b[0m \u001b[32m━━━━━━━━━━━━━━━━━━━━\u001b[0m\u001b[37m\u001b[0m \u001b[1m1s\u001b[0m 4ms/step - accuracy: 0.9539 - loss: 0.1318 - val_accuracy: 0.9551 - val_loss: 0.1293\n",
      "Epoch 31/50\n",
      "\u001b[1m253/253\u001b[0m \u001b[32m━━━━━━━━━━━━━━━━━━━━\u001b[0m\u001b[37m\u001b[0m \u001b[1m1s\u001b[0m 4ms/step - accuracy: 0.9556 - loss: 0.1287 - val_accuracy: 0.9512 - val_loss: 0.1352\n",
      "Epoch 32/50\n",
      "\u001b[1m253/253\u001b[0m \u001b[32m━━━━━━━━━━━━━━━━━━━━\u001b[0m\u001b[37m\u001b[0m \u001b[1m1s\u001b[0m 3ms/step - accuracy: 0.9555 - loss: 0.1272 - val_accuracy: 0.9536 - val_loss: 0.1279\n",
      "Epoch 33/50\n",
      "\u001b[1m253/253\u001b[0m \u001b[32m━━━━━━━━━━━━━━━━━━━━\u001b[0m\u001b[37m\u001b[0m \u001b[1m1s\u001b[0m 5ms/step - accuracy: 0.9555 - loss: 0.1270 - val_accuracy: 0.9550 - val_loss: 0.1274\n",
      "Epoch 34/50\n",
      "\u001b[1m253/253\u001b[0m \u001b[32m━━━━━━━━━━━━━━━━━━━━\u001b[0m\u001b[37m\u001b[0m \u001b[1m1s\u001b[0m 4ms/step - accuracy: 0.9568 - loss: 0.1237 - val_accuracy: 0.9554 - val_loss: 0.1253\n",
      "Epoch 35/50\n",
      "\u001b[1m253/253\u001b[0m \u001b[32m━━━━━━━━━━━━━━━━━━━━\u001b[0m\u001b[37m\u001b[0m \u001b[1m1s\u001b[0m 5ms/step - accuracy: 0.9567 - loss: 0.1228 - val_accuracy: 0.9562 - val_loss: 0.1226\n",
      "Epoch 36/50\n",
      "\u001b[1m253/253\u001b[0m \u001b[32m━━━━━━━━━━━━━━━━━━━━\u001b[0m\u001b[37m\u001b[0m \u001b[1m1s\u001b[0m 4ms/step - accuracy: 0.9580 - loss: 0.1199 - val_accuracy: 0.9521 - val_loss: 0.1298\n",
      "Epoch 37/50\n",
      "\u001b[1m253/253\u001b[0m \u001b[32m━━━━━━━━━━━━━━━━━━━━\u001b[0m\u001b[37m\u001b[0m \u001b[1m1s\u001b[0m 5ms/step - accuracy: 0.9577 - loss: 0.1207 - val_accuracy: 0.9595 - val_loss: 0.1163\n",
      "Epoch 38/50\n",
      "\u001b[1m253/253\u001b[0m \u001b[32m━━━━━━━━━━━━━━━━━━━━\u001b[0m\u001b[37m\u001b[0m \u001b[1m1s\u001b[0m 4ms/step - accuracy: 0.9590 - loss: 0.1177 - val_accuracy: 0.9586 - val_loss: 0.1192\n",
      "Epoch 39/50\n",
      "\u001b[1m253/253\u001b[0m \u001b[32m━━━━━━━━━━━━━━━━━━━━\u001b[0m\u001b[37m\u001b[0m \u001b[1m2s\u001b[0m 5ms/step - accuracy: 0.9589 - loss: 0.1163 - val_accuracy: 0.9607 - val_loss: 0.1146\n",
      "Epoch 40/50\n",
      "\u001b[1m253/253\u001b[0m \u001b[32m━━━━━━━━━━━━━━━━━━━━\u001b[0m\u001b[37m\u001b[0m \u001b[1m3s\u001b[0m 5ms/step - accuracy: 0.9603 - loss: 0.1142 - val_accuracy: 0.9593 - val_loss: 0.1150\n",
      "Epoch 41/50\n",
      "\u001b[1m253/253\u001b[0m \u001b[32m━━━━━━━━━━━━━━━━━━━━\u001b[0m\u001b[37m\u001b[0m \u001b[1m1s\u001b[0m 4ms/step - accuracy: 0.9600 - loss: 0.1132 - val_accuracy: 0.9613 - val_loss: 0.1117\n",
      "Epoch 42/50\n",
      "\u001b[1m253/253\u001b[0m \u001b[32m━━━━━━━━━━━━━━━━━━━━\u001b[0m\u001b[37m\u001b[0m \u001b[1m1s\u001b[0m 5ms/step - accuracy: 0.9610 - loss: 0.1122 - val_accuracy: 0.9601 - val_loss: 0.1135\n",
      "Epoch 43/50\n",
      "\u001b[1m253/253\u001b[0m \u001b[32m━━━━━━━━━━━━━━━━━━━━\u001b[0m\u001b[37m\u001b[0m \u001b[1m3s\u001b[0m 5ms/step - accuracy: 0.9615 - loss: 0.1105 - val_accuracy: 0.9615 - val_loss: 0.1106\n",
      "Epoch 44/50\n",
      "\u001b[1m253/253\u001b[0m \u001b[32m━━━━━━━━━━━━━━━━━━━━\u001b[0m\u001b[37m\u001b[0m \u001b[1m1s\u001b[0m 5ms/step - accuracy: 0.9608 - loss: 0.1120 - val_accuracy: 0.9587 - val_loss: 0.1123\n",
      "Epoch 45/50\n",
      "\u001b[1m253/253\u001b[0m \u001b[32m━━━━━━━━━━━━━━━━━━━━\u001b[0m\u001b[37m\u001b[0m \u001b[1m1s\u001b[0m 4ms/step - accuracy: 0.9616 - loss: 0.1097 - val_accuracy: 0.9628 - val_loss: 0.1079\n",
      "Epoch 46/50\n",
      "\u001b[1m253/253\u001b[0m \u001b[32m━━━━━━━━━━━━━━━━━━━━\u001b[0m\u001b[37m\u001b[0m \u001b[1m1s\u001b[0m 4ms/step - accuracy: 0.9631 - loss: 0.1066 - val_accuracy: 0.9619 - val_loss: 0.1101\n",
      "Epoch 47/50\n",
      "\u001b[1m253/253\u001b[0m \u001b[32m━━━━━━━━━━━━━━━━━━━━\u001b[0m\u001b[37m\u001b[0m \u001b[1m1s\u001b[0m 5ms/step - accuracy: 0.9631 - loss: 0.1057 - val_accuracy: 0.9620 - val_loss: 0.1076\n",
      "Epoch 48/50\n",
      "\u001b[1m253/253\u001b[0m \u001b[32m━━━━━━━━━━━━━━━━━━━━\u001b[0m\u001b[37m\u001b[0m \u001b[1m1s\u001b[0m 4ms/step - accuracy: 0.9634 - loss: 0.1055 - val_accuracy: 0.9640 - val_loss: 0.1034\n",
      "Epoch 49/50\n",
      "\u001b[1m253/253\u001b[0m \u001b[32m━━━━━━━━━━━━━━━━━━━━\u001b[0m\u001b[37m\u001b[0m \u001b[1m1s\u001b[0m 3ms/step - accuracy: 0.9639 - loss: 0.1045 - val_accuracy: 0.9645 - val_loss: 0.1037\n",
      "Epoch 50/50\n",
      "\u001b[1m253/253\u001b[0m \u001b[32m━━━━━━━━━━━━━━━━━━━━\u001b[0m\u001b[37m\u001b[0m \u001b[1m1s\u001b[0m 5ms/step - accuracy: 0.9641 - loss: 0.1030 - val_accuracy: 0.9639 - val_loss: 0.1023\n"
     ]
    }
   ],
   "source": [
    "history = model.fit(X_train,y_train, validation_data = (X_test,y_test), epochs = 50, batch_size = 1024, verbose =1)"
   ]
  },
  {
   "cell_type": "code",
   "execution_count": 14,
   "id": "957bf46c-ff97-4950-86a3-255c23edcafc",
   "metadata": {},
   "outputs": [
    {
     "data": {
      "text/plain": [
       "<Axes: >"
      ]
     },
     "execution_count": 14,
     "metadata": {},
     "output_type": "execute_result"
    },
    {
     "data": {
      "image/png": "[encoded data removed]",
      "text/plain": [
       "<Figure size 1000x700 with 1 Axes>"
      ]
     },
     "metadata": {},
     "output_type": "display_data"
    }
   ],
   "source": [
    "pd.DataFrame(history.history).plot(figsize=(10,7))"
   ]
  },
  {
   "cell_type": "markdown",
   "id": "1ae43745-3ded-48d8-a159-a60c1577254b",
   "metadata": {},
   "source": [
    "# TESTING ON TEST SET"
   ]
  },
  {
   "cell_type": "code",
   "execution_count": 15,
   "id": "bcfc7e69-ddf1-411b-b14c-584bab4f427f",
   "metadata": {},
   "outputs": [],
   "source": [
    "df_test = pd.read_csv('test.csv')"
   ]
  },
  {
   "cell_type": "code",
   "execution_count": 16,
   "id": "f9154d13-d397-4081-b930-a6d6978f429d",
   "metadata": {},
   "outputs": [
    {
     "data": {
      "text/html": [
       "<div>\n",
       "<style scoped>\n",
       "    .dataframe tbody tr th:only-of-type {\n",
       "        vertical-align: middle;\n",
       "    }\n",
       "\n",
       "    .dataframe tbody tr th {\n",
       "        vertical-align: top;\n",
       "    }\n",
       "\n",
       "    .dataframe thead th {\n",
       "        text-align: right;\n",
       "    }\n",
       "</style>\n",
       "<table border=\"1\" class=\"dataframe\">\n",
       "  <thead>\n",
       "    <tr style=\"text-align: right;\">\n",
       "      <th></th>\n",
       "      <th>MEAN_RR</th>\n",
       "      <th>RMSSD</th>\n",
       "      <th>pNN25</th>\n",
       "      <th>pNN50</th>\n",
       "      <th>LF</th>\n",
       "      <th>HF</th>\n",
       "      <th>LF_HF</th>\n",
       "    </tr>\n",
       "  </thead>\n",
       "  <tbody>\n",
       "    <tr>\n",
       "      <th>0</th>\n",
       "      <td>-1.001159</td>\n",
       "      <td>-0.634891</td>\n",
       "      <td>-0.598837</td>\n",
       "      <td>-0.874583</td>\n",
       "      <td>-0.575814</td>\n",
       "      <td>0.602911</td>\n",
       "      <td>-0.295775</td>\n",
       "    </tr>\n",
       "    <tr>\n",
       "      <th>1</th>\n",
       "      <td>-0.024971</td>\n",
       "      <td>1.048686</td>\n",
       "      <td>1.361573</td>\n",
       "      <td>-0.672601</td>\n",
       "      <td>1.080403</td>\n",
       "      <td>-0.280746</td>\n",
       "      <td>-0.157544</td>\n",
       "    </tr>\n",
       "    <tr>\n",
       "      <th>2</th>\n",
       "      <td>0.897836</td>\n",
       "      <td>1.544671</td>\n",
       "      <td>1.743894</td>\n",
       "      <td>0.943254</td>\n",
       "      <td>1.965161</td>\n",
       "      <td>-0.511482</td>\n",
       "      <td>0.037412</td>\n",
       "    </tr>\n",
       "    <tr>\n",
       "      <th>3</th>\n",
       "      <td>-0.175046</td>\n",
       "      <td>-0.777935</td>\n",
       "      <td>-0.623241</td>\n",
       "      <td>-0.335965</td>\n",
       "      <td>-0.767443</td>\n",
       "      <td>-0.477196</td>\n",
       "      <td>-0.241658</td>\n",
       "    </tr>\n",
       "    <tr>\n",
       "      <th>4</th>\n",
       "      <td>-0.721825</td>\n",
       "      <td>-0.393071</td>\n",
       "      <td>-0.476820</td>\n",
       "      <td>-0.201310</td>\n",
       "      <td>-0.735541</td>\n",
       "      <td>-0.089133</td>\n",
       "      <td>-0.280126</td>\n",
       "    </tr>\n",
       "  </tbody>\n",
       "</table>\n",
       "</div>"
      ],
      "text/plain": [
       "    MEAN_RR     RMSSD     pNN25     pNN50        LF        HF     LF_HF\n",
       "0 -1.001159 -0.634891 -0.598837 -0.874583 -0.575814  0.602911 -0.295775\n",
       "1 -0.024971  1.048686  1.361573 -0.672601  1.080403 -0.280746 -0.157544\n",
       "2  0.897836  1.544671  1.743894  0.943254  1.965161 -0.511482  0.037412\n",
       "3 -0.175046 -0.777935 -0.623241 -0.335965 -0.767443 -0.477196 -0.241658\n",
       "4 -0.721825 -0.393071 -0.476820 -0.201310 -0.735541 -0.089133 -0.280126"
      ]
     },
     "execution_count": 16,
     "metadata": {},
     "output_type": "execute_result"
    }
   ],
   "source": [
    "df_test[features] = scaler.transform(df_test[features])\n",
    "df_test[features].head()"
   ]
  },
  {
   "cell_type": "code",
   "execution_count": 17,
   "id": "46689b2d-28cb-4ca7-9ab0-50c85235588f",
   "metadata": {},
   "outputs": [],
   "source": [
    "X = df_test[features].values\n",
    "y = df_test[label].values"
   ]
  },
  {
   "cell_type": "code",
   "execution_count": 18,
   "id": "16c78d30-cc65-43b1-87c8-5cd9f0329551",
   "metadata": {},
   "outputs": [],
   "source": [
    "y = k.utils.to_categorical(y)"
   ]
  },
  {
   "cell_type": "code",
   "execution_count": 19,
   "id": "19844349-07bf-4fea-a014-52c8151b0bed",
   "metadata": {},
   "outputs": [
    {
     "name": "stdout",
     "output_type": "stream",
     "text": [
      "\u001b[1m1283/1283\u001b[0m \u001b[32m━━━━━━━━━━━━━━━━━━━━\u001b[0m\u001b[37m\u001b[0m \u001b[1m2s\u001b[0m 1ms/step - accuracy: 0.9647 - loss: 0.1026\n"
     ]
    }
   ],
   "source": [
    "loss,acc = model.evaluate(X,y,verbose=1)"
   ]
  },
  {
   "cell_type": "markdown",
   "id": "f6d1b897-41fa-49d4-8749-94f1e29fe7ac",
   "metadata": {},
   "source": [
    "# FINAL PIPLINE FOR PREDICTION "
   ]
  },
  {
   "cell_type": "code",
   "execution_count": 20,
   "id": "fd37f7f7-2912-4b9b-913d-8cbf28316317",
   "metadata": {},
   "outputs": [],
   "source": [
    "data = pd.read_csv('test.csv')"
   ]
  },
  {
   "cell_type": "code",
   "execution_count": 21,
   "id": "54ebd669-b574-458f-b2bd-b94833073758",
   "metadata": {},
   "outputs": [
    {
     "name": "stdout",
     "output_type": "stream",
     "text": [
      "[[-0.7699341   0.25391942  0.11699709  0.60661783  0.54497884  0.50787441\n",
      "  -0.26537627]]\n"
     ]
    },
    {
     "name": "stderr",
     "output_type": "stream",
     "text": [
      "C:\\Users\\Krishna Gupta\\AppData\\Roaming\\Python\\Python311\\site-packages\\sklearn\\base.py:465: UserWarning: X does not have valid feature names, but StandardScaler was fitted with feature names\n",
      "  warnings.warn(\n"
     ]
    }
   ],
   "source": [
    "t = scaler.transform(data[features].iloc[5545].values.reshape(1,-1))\n",
    "print(t)"
   ]
  },
  {
   "cell_type": "code",
   "execution_count": 22,
   "id": "bfbadddd-d55e-48b1-95df-e0022f3e8f16",
   "metadata": {},
   "outputs": [
    {
     "name": "stdout",
     "output_type": "stream",
     "text": [
      "\u001b[1m1/1\u001b[0m \u001b[32m━━━━━━━━━━━━━━━━━━━━\u001b[0m\u001b[37m\u001b[0m \u001b[1m0s\u001b[0m 93ms/step\n"
     ]
    }
   ],
   "source": [
    "y_pred = model.predict(t)"
   ]
  },
  {
   "cell_type": "code",
   "execution_count": 23,
   "id": "4273c7c5-f020-4c0b-954b-192b14cc4676",
   "metadata": {},
   "outputs": [
    {
     "name": "stdout",
     "output_type": "stream",
     "text": [
      "0\n",
      "condition    1\n",
      "Name: 5544, dtype: int64\n"
     ]
    }
   ],
   "source": [
    "print(np.argmax(y_pred[0]))\n",
    "print(data[label].iloc[5544])"
   ]
  }
 ],
 "metadata": {
  "kernelspec": {
   "display_name": "Python 3 (ipykernel)",
   "language": "python",
   "name": "python3"
  },
  "language_info": {
   "codemirror_mode": {
    "name": "ipython",
    "version": 3
   },
   "file_extension": ".py",
   "mimetype": "text/x-python",
   "name": "python",
   "nbconvert_exporter": "python",
   "pygments_lexer": "ipython3",
   "version": "3.11.2"
  }
 },
 "nbformat": 4,
 "nbformat_minor": 5
}
